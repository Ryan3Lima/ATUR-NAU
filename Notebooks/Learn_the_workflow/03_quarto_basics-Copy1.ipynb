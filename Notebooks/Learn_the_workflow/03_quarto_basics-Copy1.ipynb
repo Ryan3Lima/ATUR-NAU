{
 "cells": [
  {
   "cell_type": "raw",
   "id": "b1ce2ce1-0470-41d3-bd3a-1acd39c4c637",
   "metadata": {},
   "source": [
    "---\n",
    "title: \"03 - Quarto Basics\"\n",
    "author: \"Ryan E Lima\"\n",
    "date: \"June 8, 2024\"\n",
    "toc: true\n",
    "number-sections: true\n",
    "format:\n",
    "  html: \n",
    "    code-fold: true\n",
    "    code-tools: true\n",
    "    html-math-method: katex\n",
    "    bibliography: references.bib\n",
    "jupyter: python3\n",
    "---"
   ]
  },
  {
   "cell_type": "markdown",
   "id": "16006a3b-f190-46f1-801c-cd366163d18f",
   "metadata": {},
   "source": [
    "# Congratulations! You are all setup!!\n",
    "\n",
    "Now I get to show you all cool things you can do with quarto\n",
    "\n",
    "The following is an abbreviated version of the demonstrations you can (and should eventually) go though by following the link below:\n",
    "\n",
    "[Quarto - Getting Started](https://quarto.org/docs/get-started/)\n",
    "\n",
    "If you followed the instructions in the last notebook 02_Getting Started, then quarto should be downloaded and running in the background, you don't have to ever open it or enable it.\n",
    "\n",
    "Quarto works in the background with jupyter notebooks and allows you to turn notebooks like this into websites (converting to html) or many other things through \"rendering'.\n",
    "\n",
    "When you render a Jupyter notebook with Quarto, the contents of the notebook (code, markdown, and outputs) are converted to plain markdown and then processed by Pandoc, which creates the finished format.\n",
    "\n",
    "![](ipynb-how-it-works.png)\n"
   ]
  },
  {
   "cell_type": "markdown",
   "id": "6f3176a1-192b-415a-a1af-8c8c7ad538bc",
   "metadata": {},
   "source": [
    "# Render your notebook\n",
    "\n",
    "Cool so if you followed my advice you should have made a duplicate of this notebook, by default it is probably called:\n",
    "'Learn_the_workflow/03_quarto_basics-Copy1.ipynb' ...but you can rename it whatever you want. \n",
    "\n",
    "![](open_03_copy.PNG)\n",
    "\n",
    "You will probably see it now in your Jupyter 'Home' tab, right click on the notebook and 'copy path'\n",
    "\n",
    "ok, lets render!!!!\n",
    "\n"
   ]
  },
  {
   "cell_type": "markdown",
   "id": "ab1f4f92-56c5-46ad-950f-bb6659fe4533",
   "metadata": {},
   "source": [
    "## Render in terminal\n",
    "\n",
    "In the Jupyter 'Home' browser tab, click File>New>Terminal\n",
    "\n",
    "![](03_01_rz.png)"
   ]
  }
 ],
 "metadata": {
  "kernelspec": {
   "display_name": "Python 3 (ipykernel)",
   "language": "python",
   "name": "python3"
  },
  "language_info": {
   "codemirror_mode": {
    "name": "ipython",
    "version": 3
   },
   "file_extension": ".py",
   "mimetype": "text/x-python",
   "name": "python",
   "nbconvert_exporter": "python",
   "pygments_lexer": "ipython3",
   "version": "3.9.19"
  }
 },
 "nbformat": 4,
 "nbformat_minor": 5
}
